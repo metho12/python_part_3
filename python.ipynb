{
 "cells": [
  {
   "cell_type": "code",
   "execution_count": 1,
   "id": "b0fcb3ce",
   "metadata": {},
   "outputs": [],
   "source": [
    "#____bulid Game ______\n",
    "# welcome message\n",
    "#coption \n",
    "#user choice \n",
    "#ask play again \n",
    "#n-------exit game "
   ]
  },
  {
   "cell_type": "code",
   "execution_count": null,
   "id": "62c22b13",
   "metadata": {},
   "outputs": [],
   "source": [
    "#1"
   ]
  },
  {
   "cell_type": "code",
   "execution_count": 3,
   "id": "e367858c",
   "metadata": {},
   "outputs": [
    {
     "name": "stdout",
     "output_type": "stream",
     "text": [
      "[1, 4, 9, 16, 25, 25, 36, 49]\n"
     ]
    }
   ],
   "source": [
    "number = [1,2,3,4,5,5,6,7]\n",
    "\n",
    "\n",
    "new_number = []\n",
    "for x in number:\n",
    "    new_number.append(x*x)\n",
    "print (new_number)"
   ]
  },
  {
   "cell_type": "code",
   "execution_count": null,
   "id": "f37ebebc",
   "metadata": {},
   "outputs": [],
   "source": [
    "#2 -- functianal programming "
   ]
  },
  {
   "cell_type": "code",
   "execution_count": 7,
   "id": "e554769e",
   "metadata": {},
   "outputs": [
    {
     "name": "stdout",
     "output_type": "stream",
     "text": [
      "[1, 4, 9, 16, 25, 25, 36, 49]\n"
     ]
    }
   ],
   "source": [
    "def mysquare(n):\n",
    "    return n*n\n",
    "new_number = map(mysquare,number)\n",
    "\n",
    "print (list(new_number))"
   ]
  },
  {
   "cell_type": "code",
   "execution_count": null,
   "id": "8bd31326",
   "metadata": {},
   "outputs": [],
   "source": [
    "#pythonic"
   ]
  },
  {
   "cell_type": "code",
   "execution_count": null,
   "id": "d6f57362",
   "metadata": {},
   "outputs": [],
   "source": [
    "#3 list comprehension "
   ]
  },
  {
   "cell_type": "code",
   "execution_count": 11,
   "id": "87cf36a0",
   "metadata": {},
   "outputs": [
    {
     "name": "stdout",
     "output_type": "stream",
     "text": [
      "[1, 4, 9, 16, 25, 25, 36, 49]\n"
     ]
    }
   ],
   "source": [
    "number = [1,2,3,4,5,5,6,7]\n",
    "\n",
    "new_number = [n*n for n in number]\n",
    "print (new_number)"
   ]
  },
  {
   "cell_type": "code",
   "execution_count": null,
   "id": "88331c5c",
   "metadata": {},
   "outputs": [],
   "source": [
    "# generator (tubel)"
   ]
  },
  {
   "cell_type": "code",
   "execution_count": 13,
   "id": "4868a9c0",
   "metadata": {},
   "outputs": [
    {
     "name": "stdout",
     "output_type": "stream",
     "text": [
      "<generator object <genexpr> at 0x7fa949d27820>\n",
      "[1, 4, 9, 16, 25, 25, 36, 49]\n"
     ]
    }
   ],
   "source": [
    "number = [1,2,3,4,5,5,6,7]\n",
    "\n",
    "new_number = (n*n for n in number)\n",
    "print (new_number)\n",
    "print(list(new_number))"
   ]
  },
  {
   "cell_type": "code",
   "execution_count": 14,
   "id": "914ded73",
   "metadata": {},
   "outputs": [
    {
     "name": "stdout",
     "output_type": "stream",
     "text": [
      "['AHMED', 'AIL', 'HASSAN']\n"
     ]
    }
   ],
   "source": [
    "name = ['ahmed','ail','hassan']\n",
    "new_name = [n.upper()for n in name]\n",
    "print (new_name)"
   ]
  },
  {
   "cell_type": "code",
   "execution_count": 15,
   "id": "f30aeae0",
   "metadata": {},
   "outputs": [
    {
     "name": "stdout",
     "output_type": "stream",
     "text": [
      "[2, 4, 6, 8, 10, 12, 14, 16, 18, 20, 22, 24, 26, 28, 30, 32, 34, 36, 38, 40, 42, 44, 46, 48, 50, 52, 54, 56, 58, 60, 62, 64, 66, 68, 70, 72, 74, 76, 78, 80, 82, 84, 86, 88, 90, 92, 94, 96, 98, 100]\n"
     ]
    }
   ],
   "source": [
    "number = list (range(1,101))\n",
    "even = [n for n in number if n%2==0]\n",
    "print(even)"
   ]
  },
  {
   "cell_type": "code",
   "execution_count": 17,
   "id": "52dee57b",
   "metadata": {},
   "outputs": [
    {
     "name": "stdout",
     "output_type": "stream",
     "text": [
      "['odd', 'even', 'odd', 'even', 'odd', 'even', 'odd', 'even', 'odd', 'even', 'odd', 'even', 'odd', 'even', 'odd', 'even', 'odd', 'even', 'odd', 'even', 'odd', 'even', 'odd', 'even', 'odd', 'even', 'odd', 'even', 'odd', 'even', 'odd', 'even', 'odd', 'even', 'odd', 'even', 'odd', 'even', 'odd', 'even', 'odd', 'even', 'odd', 'even', 'odd', 'even', 'odd', 'even', 'odd', 'even', 'odd', 'even', 'odd', 'even', 'odd', 'even', 'odd', 'even', 'odd', 'even', 'odd', 'even', 'odd', 'even', 'odd', 'even', 'odd', 'even', 'odd', 'even', 'odd', 'even', 'odd', 'even', 'odd', 'even', 'odd', 'even', 'odd', 'even', 'odd', 'even', 'odd', 'even', 'odd', 'even', 'odd', 'even', 'odd', 'even', 'odd', 'even', 'odd', 'even', 'odd', 'even', 'odd', 'even', 'odd', 'even']\n"
     ]
    }
   ],
   "source": [
    "number = list (range(1,101))\n",
    "\n",
    "my_number = ['even' if n%2==0 else 'odd'for n in number]\n",
    "print (my_number)"
   ]
  },
  {
   "cell_type": "code",
   "execution_count": 18,
   "id": "a8c12613",
   "metadata": {},
   "outputs": [
    {
     "name": "stdout",
     "output_type": "stream",
     "text": [
      "{'iphone': 1100.0, 'mocbook': 2750.0, 'watch': 770.0000000000001}\n"
     ]
    }
   ],
   "source": [
    "d = {'iphone':1000,'mocbook':2500,'watch':700}\n",
    "new_d = {k:v*1.1 for k,v in d.items()}\n",
    "print(new_d)"
   ]
  },
  {
   "cell_type": "code",
   "execution_count": 27,
   "id": "6dd84db6",
   "metadata": {},
   "outputs": [
    {
     "name": "stdout",
     "output_type": "stream",
     "text": [
      "[1, 2, 3, 4, 5, 6, 7, 8, 9, 10, 11, 12, 13, 14, 15, 16, 17, 18, 19, 20, 21, 22, 23, 24, 25, 26, 27, 28, 29, 30, 31, 32, 33, 34, 35, 36, 37, 38, 39, 40, 41, 42, 43, 44, 45, 46, 47, 48, 49, 50, 51, 52, 53, 54, 55, 56, 57, 58, 59, 60, 61, 62, 63, 64, 65, 66, 67, 68, 69, 70, 71, 72, 73, 74, 75, 76, 77, 78, 79, 80, 81, 82, 83, 84, 85, 86, 87, 88, 89, 90, 91, 92, 93, 94, 95, 96, 97, 98, 99, 100]\n"
     ]
    }
   ],
   "source": [
    "number = list(range(1,101))\n",
    "\n",
    "def myfilter(n):\n",
    "    \n",
    "    if n >50:\n",
    "        return True\n",
    "    else:\n",
    "        return False\n",
    "    \n",
    "new_number = filter(myfilter,number)\n",
    "print(list(number))"
   ]
  },
  {
   "cell_type": "code",
   "execution_count": 26,
   "id": "41d65b7f",
   "metadata": {},
   "outputs": [
    {
     "name": "stdout",
     "output_type": "stream",
     "text": [
      "[51, 52, 53, 54, 55, 56, 57, 58, 59, 60, 61, 62, 63, 64, 65, 66, 67, 68, 69, 70, 71, 72, 73, 74, 75, 76, 77, 78, 79, 80, 81, 82, 83, 84, 85, 86, 87, 88, 89, 90, 91, 92, 93, 94, 95, 96, 97, 98, 99, 100]\n"
     ]
    }
   ],
   "source": [
    "number = list(range(1,101))\n",
    "new_number = [n for n in number if n >50]\n",
    "print (new_number)"
   ]
  },
  {
   "cell_type": "code",
   "execution_count": 29,
   "id": "da911677",
   "metadata": {},
   "outputs": [
    {
     "name": "stdout",
     "output_type": "stream",
     "text": [
      "[51, 52, 53, 54, 55, 56, 57, 58, 59, 60, 61, 62, 63, 64, 65, 66, 67, 68, 69, 70, 71, 72, 73, 74, 75, 76, 77, 78, 79, 80, 81, 82, 83, 84, 85, 86, 87, 88, 89, 90, 91, 92, 93, 94, 95, 96, 97, 98, 99, 100]\n"
     ]
    }
   ],
   "source": [
    "number = list(range(1,101))\n",
    "new_number = filter (lambda n:n>50, number ) \n",
    "print (list(new_number))"
   ]
  },
  {
   "cell_type": "code",
   "execution_count": 32,
   "id": "f1e6b165",
   "metadata": {},
   "outputs": [],
   "source": [
    "from functools import reduce"
   ]
  },
  {
   "cell_type": "code",
   "execution_count": 42,
   "id": "e65c8442",
   "metadata": {},
   "outputs": [
    {
     "name": "stdout",
     "output_type": "stream",
     "text": [
      "[((((((((((((((((((((((((((((((((((((((((((((((((((((((((((((((((((((((((((((((((((((((((((((((((2, 3), 4), 5), 6), 7), 8), 9), 10), 11), 12), 13), 14), 15), 16), 17), 18), 19), 20), 21), 22), 23), 24), 25), 26), 27), 28), 29), 30), 31), 32), 33), 34), 35), 36), 37), 38), 39), 40), 41), 42), 43), 44), 45), 46), 47), 48), 49), 50), 51), 52), 53), 54), 55), 56), 57), 58), 59), 60), 61), 62), 63), 64), 65), 66), 67), 68), 69), 70), 71), 72), 73), 74), 75), 76), 77), 78), 79), 80), 81), 82), 83), 84), 85), 86), 87), 88), 89), 90), 91), 92), 93), 94), 95), 96), 97), 98), 99]\n"
     ]
    }
   ],
   "source": [
    "numbers = list(range(2,100))\n",
    "def mysum(x,y):\n",
    "    return x,y\n",
    "\n",
    "\n",
    "result = reduce(mysum,numbers)\n",
    "print(result)"
   ]
  },
  {
   "cell_type": "code",
   "execution_count": 46,
   "id": "7c08972b",
   "metadata": {},
   "outputs": [],
   "source": [
    "a,*b =[1,5,6,7,8,9,8]"
   ]
  },
  {
   "cell_type": "code",
   "execution_count": 47,
   "id": "37b9993a",
   "metadata": {},
   "outputs": [
    {
     "data": {
      "text/plain": [
       "1"
      ]
     },
     "execution_count": 47,
     "metadata": {},
     "output_type": "execute_result"
    }
   ],
   "source": [
    "a"
   ]
  },
  {
   "cell_type": "code",
   "execution_count": 48,
   "id": "f288483b",
   "metadata": {},
   "outputs": [
    {
     "data": {
      "text/plain": [
       "[5, 6, 7, 8, 9, 8]"
      ]
     },
     "execution_count": 48,
     "metadata": {},
     "output_type": "execute_result"
    }
   ],
   "source": [
    "b"
   ]
  },
  {
   "cell_type": "code",
   "execution_count": 49,
   "id": "0780d519",
   "metadata": {},
   "outputs": [],
   "source": [
    "*a,b =[1,5,6,7,8,9,8]"
   ]
  },
  {
   "cell_type": "code",
   "execution_count": 50,
   "id": "6e31c38d",
   "metadata": {},
   "outputs": [
    {
     "data": {
      "text/plain": [
       "[1, 5, 6, 7, 8, 9]"
      ]
     },
     "execution_count": 50,
     "metadata": {},
     "output_type": "execute_result"
    }
   ],
   "source": [
    "a"
   ]
  },
  {
   "cell_type": "code",
   "execution_count": 51,
   "id": "5469d931",
   "metadata": {},
   "outputs": [
    {
     "data": {
      "text/plain": [
       "8"
      ]
     },
     "execution_count": 51,
     "metadata": {},
     "output_type": "execute_result"
    }
   ],
   "source": [
    "b"
   ]
  },
  {
   "cell_type": "code",
   "execution_count": 52,
   "id": "f62fa679",
   "metadata": {},
   "outputs": [],
   "source": [
    "c,*a,b =[1,5,6,7,8,9,8]"
   ]
  },
  {
   "cell_type": "code",
   "execution_count": 53,
   "id": "27fee53f",
   "metadata": {},
   "outputs": [
    {
     "data": {
      "text/plain": [
       "1"
      ]
     },
     "execution_count": 53,
     "metadata": {},
     "output_type": "execute_result"
    }
   ],
   "source": [
    "c"
   ]
  },
  {
   "cell_type": "code",
   "execution_count": 54,
   "id": "15973edf",
   "metadata": {},
   "outputs": [
    {
     "data": {
      "text/plain": [
       "[5, 6, 7, 8, 9]"
      ]
     },
     "execution_count": 54,
     "metadata": {},
     "output_type": "execute_result"
    }
   ],
   "source": [
    "a"
   ]
  },
  {
   "cell_type": "code",
   "execution_count": 55,
   "id": "618d3a7e",
   "metadata": {},
   "outputs": [
    {
     "data": {
      "text/plain": [
       "8"
      ]
     },
     "execution_count": 55,
     "metadata": {},
     "output_type": "execute_result"
    }
   ],
   "source": [
    "b"
   ]
  },
  {
   "cell_type": "code",
   "execution_count": 57,
   "id": "c657d229",
   "metadata": {},
   "outputs": [
    {
     "name": "stdout",
     "output_type": "stream",
     "text": [
      "hello\n",
      "hello\n",
      "hello\n",
      "hello\n",
      "hello\n"
     ]
    }
   ],
   "source": [
    "for _ in range(5):\n",
    "    print('hello')"
   ]
  },
  {
   "cell_type": "code",
   "execution_count": null,
   "id": "552000d6",
   "metadata": {},
   "outputs": [],
   "source": []
  }
 ],
 "metadata": {
  "kernelspec": {
   "display_name": "Python 3 (ipykernel)",
   "language": "python",
   "name": "python3"
  },
  "language_info": {
   "codemirror_mode": {
    "name": "ipython",
    "version": 3
   },
   "file_extension": ".py",
   "mimetype": "text/x-python",
   "name": "python",
   "nbconvert_exporter": "python",
   "pygments_lexer": "ipython3",
   "version": "3.9.12"
  }
 },
 "nbformat": 4,
 "nbformat_minor": 5
}
